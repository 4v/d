{
 "cells": [
  {
   "cell_type": "code",
   "execution_count": 1,
   "metadata": {},
   "outputs": [
    {
     "name": "stdout",
     "output_type": "stream",
     "text": [
      "3.6.3 |Anaconda, Inc.| (default, Nov  9 2017, 00:19:18) \n",
      "[GCC 7.2.0]\n"
     ]
    }
   ],
   "source": [
    "import sys\n",
    "\n",
    "print(sys.version)"
   ]
  },
  {
   "cell_type": "code",
   "execution_count": 6,
   "metadata": {},
   "outputs": [
    {
     "name": "stdout",
     "output_type": "stream",
     "text": [
      "trickers saved.\n"
     ]
    }
   ],
   "source": [
    "import requests\n",
    "import pandas\n",
    "import io\n",
    "import datetime\n",
    "\n",
    "# Step 1. Get tricker list online\n",
    "url = 'http://www.nasdaq.com/screening/companies-by-industry.aspx?exchange=NASDAQ&render=download'\n",
    "dataString = requests.get(url).content\n",
    "trickerRawData = pandas.read_csv(io.StringIO(dataString.decode('utf-8')))\n",
    "trickers = trickerRawData['Symbol'].tolist()\n",
    "# print(trickers)\n",
    "\n",
    "# Step 2. Save the tricker list to a local file\n",
    "dateToday = datetime.datetime.today().strftime('%Y%m%d')\n",
    "file = './data/00.TrickerListUS/TrickerList' + dateToday + '.csv'\n",
    "trickerRawData.to_csv(file, index=False)\n",
    "print('trickers saved.')\n"
   ]
  },
  {
   "cell_type": "code",
   "execution_count": null,
   "metadata": {},
   "outputs": [],
   "source": []
  }
 ],
 "metadata": {
  "kernelspec": {
   "display_name": "Python 3",
   "language": "python",
   "name": "python3"
  },
  "language_info": {
   "codemirror_mode": {
    "name": "ipython",
    "version": 3
   },
   "file_extension": ".py",
   "mimetype": "text/x-python",
   "name": "python",
   "nbconvert_exporter": "python",
   "pygments_lexer": "ipython3",
   "version": "3.6.3"
  }
 },
 "nbformat": 4,
 "nbformat_minor": 2
}
