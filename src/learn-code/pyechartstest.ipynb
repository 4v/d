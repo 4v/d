{
 "cells": [
  {
   "cell_type": "code",
   "execution_count": 11,
   "metadata": {},
   "outputs": [],
   "source": [
    "from pyecharts import Bar\n",
    "\n",
    "bar = Bar(\"我的第一个图表\", \"这里是副标题\")\n",
    "bar.add(\"服装\", \n",
    "        [\"衬衫\", \"羊毛衫\", \"雪纺衫\", \"裤子\", \"高跟鞋\", \"袜子\"], [5, 20, 36, 10, 75, 90],\n",
    "        is_more_utils=True)\n",
    "bar.render()\n"
   ]
  },
  {
   "cell_type": "code",
   "execution_count": 1,
   "metadata": {},
   "outputs": [],
   "source": [
    "from pyecharts import enable_nteract\n",
    "\n",
    "enable_nteract()"
   ]
  },
  {
   "cell_type": "code",
   "execution_count": 17,
   "metadata": {},
   "outputs": [],
   "source": [
    "# coding=utf8\n",
    "\"\"\"\n",
    "本示例使用 networkx 库构建复杂、更人性化的的关系图\n",
    "安装 pip install networkx\n",
    "参考 https://networkx.github.io/\n",
    "\"\"\"\n",
    "\n",
    "from __future__ import unicode_literals\n",
    "\n",
    "import networkx as nx\n",
    "from networkx.readwrite import json_graph\n",
    "from pyecharts import Graph\n",
    "\n",
    "g = nx.Graph()\n",
    "g.add_node('G1', name='Gateway 1')\n",
    "g.add_node('N2', name='Node 2')\n",
    "g.add_node('N3', name='Node 3')\n",
    "g.add_edge('G1', 'N2')\n",
    "g.add_edge('G1', 'N3')\n",
    "g_data = json_graph.node_link_data(g)\n",
    "eg = Graph('设备最新拓扑图')\n",
    "eg.add('Devices', nodes=g_data['nodes'], links=g_data['links'])\n",
    "eg.render()"
   ]
  },
  {
   "cell_type": "code",
   "execution_count": 26,
   "metadata": {},
   "outputs": [
    {
     "name": "stdout",
     "output_type": "stream",
     "text": [
      "2018-05-27\n"
     ]
    }
   ],
   "source": [
    "import datetime\n",
    "#today=datetime.date.today()\n",
    "#today=datetime.datetime.now().strftime('%Y-%m-%d %H:%M:%S')\n",
    "today=datetime.datetime.now().strftime('%Y-%m-%d')\n",
    "print(today)"
   ]
  },
  {
   "cell_type": "code",
   "execution_count": null,
   "metadata": {},
   "outputs": [],
   "source": []
  }
 ],
 "metadata": {
  "kernelspec": {
   "display_name": "Python 3",
   "language": "python",
   "name": "python3"
  },
  "language_info": {
   "codemirror_mode": {
    "name": "ipython",
    "version": 3
   },
   "file_extension": ".py",
   "mimetype": "text/x-python",
   "name": "python",
   "nbconvert_exporter": "python",
   "pygments_lexer": "ipython3",
   "version": "3.6.3"
  }
 },
 "nbformat": 4,
 "nbformat_minor": 2
}
